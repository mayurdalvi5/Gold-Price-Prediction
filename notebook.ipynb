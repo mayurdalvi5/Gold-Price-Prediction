{
 "cells": [
  {
   "cell_type": "code",
   "execution_count": 1,
   "id": "21a86b1d",
   "metadata": {},
   "outputs": [],
   "source": [
    "import pandas as pd\n",
    "import numpy as np\n",
    "import matplotlib.pyplot as plt\n",
    "import seaborn as sns\n",
    "from sklearn.model_selection import train_test_split\n",
    "from sklearn.ensemble import RandomForestRegressor\n",
    "from sklearn import metrics\n"
   ]
  },
  {
   "cell_type": "code",
   "execution_count": 2,
   "id": "28f8f011",
   "metadata": {},
   "outputs": [],
   "source": [
    "gold_data=pd.read_csv('gld_price_data.csv')"
   ]
  },
  {
   "cell_type": "code",
   "execution_count": 3,
   "id": "f2c5a91c",
   "metadata": {},
   "outputs": [
    {
     "data": {
      "text/html": [
       "<div>\n",
       "<style scoped>\n",
       "    .dataframe tbody tr th:only-of-type {\n",
       "        vertical-align: middle;\n",
       "    }\n",
       "\n",
       "    .dataframe tbody tr th {\n",
       "        vertical-align: top;\n",
       "    }\n",
       "\n",
       "    .dataframe thead th {\n",
       "        text-align: right;\n",
       "    }\n",
       "</style>\n",
       "<table border=\"1\" class=\"dataframe\">\n",
       "  <thead>\n",
       "    <tr style=\"text-align: right;\">\n",
       "      <th></th>\n",
       "      <th>Date</th>\n",
       "      <th>SPX</th>\n",
       "      <th>GLD</th>\n",
       "      <th>USO</th>\n",
       "      <th>SLV</th>\n",
       "      <th>EUR/USD</th>\n",
       "    </tr>\n",
       "  </thead>\n",
       "  <tbody>\n",
       "    <tr>\n",
       "      <th>0</th>\n",
       "      <td>1/2/2008</td>\n",
       "      <td>1447.160034</td>\n",
       "      <td>84.860001</td>\n",
       "      <td>78.470001</td>\n",
       "      <td>15.180</td>\n",
       "      <td>1.471692</td>\n",
       "    </tr>\n",
       "    <tr>\n",
       "      <th>1</th>\n",
       "      <td>1/3/2008</td>\n",
       "      <td>1447.160034</td>\n",
       "      <td>85.570000</td>\n",
       "      <td>78.370003</td>\n",
       "      <td>15.285</td>\n",
       "      <td>1.474491</td>\n",
       "    </tr>\n",
       "    <tr>\n",
       "      <th>2</th>\n",
       "      <td>1/4/2008</td>\n",
       "      <td>1411.630005</td>\n",
       "      <td>85.129997</td>\n",
       "      <td>77.309998</td>\n",
       "      <td>15.167</td>\n",
       "      <td>1.475492</td>\n",
       "    </tr>\n",
       "    <tr>\n",
       "      <th>3</th>\n",
       "      <td>1/7/2008</td>\n",
       "      <td>1416.180054</td>\n",
       "      <td>84.769997</td>\n",
       "      <td>75.500000</td>\n",
       "      <td>15.053</td>\n",
       "      <td>1.468299</td>\n",
       "    </tr>\n",
       "    <tr>\n",
       "      <th>4</th>\n",
       "      <td>1/8/2008</td>\n",
       "      <td>1390.189941</td>\n",
       "      <td>86.779999</td>\n",
       "      <td>76.059998</td>\n",
       "      <td>15.590</td>\n",
       "      <td>1.557099</td>\n",
       "    </tr>\n",
       "  </tbody>\n",
       "</table>\n",
       "</div>"
      ],
      "text/plain": [
       "       Date          SPX        GLD        USO     SLV   EUR/USD\n",
       "0  1/2/2008  1447.160034  84.860001  78.470001  15.180  1.471692\n",
       "1  1/3/2008  1447.160034  85.570000  78.370003  15.285  1.474491\n",
       "2  1/4/2008  1411.630005  85.129997  77.309998  15.167  1.475492\n",
       "3  1/7/2008  1416.180054  84.769997  75.500000  15.053  1.468299\n",
       "4  1/8/2008  1390.189941  86.779999  76.059998  15.590  1.557099"
      ]
     },
     "execution_count": 3,
     "metadata": {},
     "output_type": "execute_result"
    }
   ],
   "source": [
    "gold_data.head()"
   ]
  },
  {
   "cell_type": "code",
   "execution_count": 4,
   "id": "9c795964",
   "metadata": {},
   "outputs": [
    {
     "data": {
      "text/plain": [
       "Date       0\n",
       "SPX        0\n",
       "GLD        0\n",
       "USO        0\n",
       "SLV        0\n",
       "EUR/USD    0\n",
       "dtype: int64"
      ]
     },
     "execution_count": 4,
     "metadata": {},
     "output_type": "execute_result"
    }
   ],
   "source": [
    "gold_data.isnull().sum()"
   ]
  },
  {
   "cell_type": "code",
   "execution_count": 5,
   "id": "570827ca",
   "metadata": {},
   "outputs": [
    {
     "data": {
      "text/html": [
       "<div>\n",
       "<style scoped>\n",
       "    .dataframe tbody tr th:only-of-type {\n",
       "        vertical-align: middle;\n",
       "    }\n",
       "\n",
       "    .dataframe tbody tr th {\n",
       "        vertical-align: top;\n",
       "    }\n",
       "\n",
       "    .dataframe thead th {\n",
       "        text-align: right;\n",
       "    }\n",
       "</style>\n",
       "<table border=\"1\" class=\"dataframe\">\n",
       "  <thead>\n",
       "    <tr style=\"text-align: right;\">\n",
       "      <th></th>\n",
       "      <th>SPX</th>\n",
       "      <th>GLD</th>\n",
       "      <th>USO</th>\n",
       "      <th>SLV</th>\n",
       "      <th>EUR/USD</th>\n",
       "    </tr>\n",
       "  </thead>\n",
       "  <tbody>\n",
       "    <tr>\n",
       "      <th>count</th>\n",
       "      <td>2290.000000</td>\n",
       "      <td>2290.000000</td>\n",
       "      <td>2290.000000</td>\n",
       "      <td>2290.000000</td>\n",
       "      <td>2290.000000</td>\n",
       "    </tr>\n",
       "    <tr>\n",
       "      <th>mean</th>\n",
       "      <td>1654.315776</td>\n",
       "      <td>122.732875</td>\n",
       "      <td>31.842221</td>\n",
       "      <td>20.084997</td>\n",
       "      <td>1.283653</td>\n",
       "    </tr>\n",
       "    <tr>\n",
       "      <th>std</th>\n",
       "      <td>519.111540</td>\n",
       "      <td>23.283346</td>\n",
       "      <td>19.523517</td>\n",
       "      <td>7.092566</td>\n",
       "      <td>0.131547</td>\n",
       "    </tr>\n",
       "    <tr>\n",
       "      <th>min</th>\n",
       "      <td>676.530029</td>\n",
       "      <td>70.000000</td>\n",
       "      <td>7.960000</td>\n",
       "      <td>8.850000</td>\n",
       "      <td>1.039047</td>\n",
       "    </tr>\n",
       "    <tr>\n",
       "      <th>25%</th>\n",
       "      <td>1239.874969</td>\n",
       "      <td>109.725000</td>\n",
       "      <td>14.380000</td>\n",
       "      <td>15.570000</td>\n",
       "      <td>1.171313</td>\n",
       "    </tr>\n",
       "    <tr>\n",
       "      <th>50%</th>\n",
       "      <td>1551.434998</td>\n",
       "      <td>120.580002</td>\n",
       "      <td>33.869999</td>\n",
       "      <td>17.268500</td>\n",
       "      <td>1.303297</td>\n",
       "    </tr>\n",
       "    <tr>\n",
       "      <th>75%</th>\n",
       "      <td>2073.010070</td>\n",
       "      <td>132.840004</td>\n",
       "      <td>37.827501</td>\n",
       "      <td>22.882500</td>\n",
       "      <td>1.369971</td>\n",
       "    </tr>\n",
       "    <tr>\n",
       "      <th>max</th>\n",
       "      <td>2872.870117</td>\n",
       "      <td>184.589996</td>\n",
       "      <td>117.480003</td>\n",
       "      <td>47.259998</td>\n",
       "      <td>1.598798</td>\n",
       "    </tr>\n",
       "  </tbody>\n",
       "</table>\n",
       "</div>"
      ],
      "text/plain": [
       "               SPX          GLD          USO          SLV      EUR/USD\n",
       "count  2290.000000  2290.000000  2290.000000  2290.000000  2290.000000\n",
       "mean   1654.315776   122.732875    31.842221    20.084997     1.283653\n",
       "std     519.111540    23.283346    19.523517     7.092566     0.131547\n",
       "min     676.530029    70.000000     7.960000     8.850000     1.039047\n",
       "25%    1239.874969   109.725000    14.380000    15.570000     1.171313\n",
       "50%    1551.434998   120.580002    33.869999    17.268500     1.303297\n",
       "75%    2073.010070   132.840004    37.827501    22.882500     1.369971\n",
       "max    2872.870117   184.589996   117.480003    47.259998     1.598798"
      ]
     },
     "execution_count": 5,
     "metadata": {},
     "output_type": "execute_result"
    }
   ],
   "source": [
    "gold_data.describe()"
   ]
  },
  {
   "cell_type": "raw",
   "id": "3aaa6049",
   "metadata": {},
   "source": [
    "# correlation \n",
    "1. Positive Correlation\n",
    "2. Negative Correlation"
   ]
  },
  {
   "cell_type": "code",
   "execution_count": 6,
   "id": "ddb140c6",
   "metadata": {},
   "outputs": [],
   "source": [
    "correlation = gold_data.corr()"
   ]
  },
  {
   "cell_type": "code",
   "execution_count": 11,
   "id": "67ff7cc0",
   "metadata": {},
   "outputs": [
    {
     "data": {
      "text/plain": [
       "<AxesSubplot:>"
      ]
     },
     "execution_count": 11,
     "metadata": {},
     "output_type": "execute_result"
    },
    {
     "data": {
      "image/png": "[encoded data removed]",
      "text/plain": [
       "<Figure size 576x576 with 2 Axes>"
      ]
     },
     "metadata": {
      "needs_background": "light"
     },
     "output_type": "display_data"
    }
   ],
   "source": [
    "# constructing a heatmap to understand the correlation\n",
    "plt.figure(figsize = (8, 8))\n",
    "sns.heatmap(correlation, cbar = True, square = True, fmt='.2f' , annot=True, annot_kws= {'size': 8}, cmap = 'Blues')"
   ]
  },
  {
   "cell_type": "code",
   "execution_count": 12,
   "id": "7918350c",
   "metadata": {},
   "outputs": [
    {
     "name": "stdout",
     "output_type": "stream",
     "text": [
      "SPX        0.049345\n",
      "GLD        1.000000\n",
      "USO       -0.186360\n",
      "SLV        0.866632\n",
      "EUR/USD   -0.024375\n",
      "Name: GLD, dtype: float64\n"
     ]
    }
   ],
   "source": [
    "#correlation values of GLD\n",
    "print(correlation['GLD'])"
   ]
  },
  {
   "cell_type": "code",
   "execution_count": 14,
   "id": "11f78394",
   "metadata": {},
   "outputs": [
    {
     "name": "stderr",
     "output_type": "stream",
     "text": [
      "C:\\Users\\mayur\\AppData\\Local\\Programs\\Python\\Python39\\lib\\site-packages\\seaborn\\distributions.py:2619: FutureWarning: `distplot` is a deprecated function and will be removed in a future version. Please adapt your code to use either `displot` (a figure-level function with similar flexibility) or `histplot` (an axes-level function for histograms).\n",
      "  warnings.warn(msg, FutureWarning)\n"
     ]
    },
    {
     "data": {
      "text/plain": [
       "<AxesSubplot:xlabel='GLD', ylabel='Density'>"
      ]
     },
     "execution_count": 14,
     "metadata": {},
     "output_type": "execute_result"
    },
    {
     "data": {
      "image/png": "[encoded data removed]",
      "text/plain": [
       "<Figure size 432x288 with 1 Axes>"
      ]
     },
     "metadata": {
      "needs_background": "light"
     },
     "output_type": "display_data"
    }
   ],
   "source": [
    "#checking the distribution for GLD price\n",
    "sns.distplot(gold_data['GLD'], color= 'green')"
   ]
  },
  {
   "cell_type": "code",
   "execution_count": 16,
   "id": "dc204ffb",
   "metadata": {},
   "outputs": [],
   "source": [
    "x = gold_data.drop(['Date','GLD'], axis=1)\n",
    "y = gold_data['GLD']"
   ]
  },
  {
   "cell_type": "code",
   "execution_count": 17,
   "id": "84e6b3ef",
   "metadata": {},
   "outputs": [],
   "source": [
    "x_train,x_test, y_train, y_test = train_test_split(x, y , test_size= 0.2, random_state= 2)\n"
   ]
  },
  {
   "cell_type": "raw",
   "id": "027dc4d3",
   "metadata": {},
   "source": [
    "Model Training : Random forest Regressor"
   ]
  },
  {
   "cell_type": "code",
   "execution_count": 18,
   "id": "f8dfb798",
   "metadata": {},
   "outputs": [],
   "source": [
    "regressor = RandomForestRegressor(n_estimators=100)"
   ]
  },
  {
   "cell_type": "code",
   "execution_count": 19,
   "id": "5439a25a",
   "metadata": {},
   "outputs": [
    {
     "data": {
      "text/plain": [
       "RandomForestRegressor()"
      ]
     },
     "execution_count": 19,
     "metadata": {},
     "output_type": "execute_result"
    }
   ],
   "source": [
    "# training the model\n",
    "regressor.fit(x_train, y_train)"
   ]
  },
  {
   "cell_type": "raw",
   "id": "109aa2d1",
   "metadata": {},
   "source": [
    "Model Evaluation\n"
   ]
  },
  {
   "cell_type": "code",
   "execution_count": 20,
   "id": "4697a317",
   "metadata": {},
   "outputs": [],
   "source": [
    "# prediction on test data\n",
    "test_data_prediction = regressor.predict(x_test)\n"
   ]
  },
  {
   "cell_type": "code",
   "execution_count": 21,
   "id": "9ea25648",
   "metadata": {},
   "outputs": [
    {
     "name": "stdout",
     "output_type": "stream",
     "text": [
      "[168.81970002  82.21229993 116.13890038 127.53850048 120.60830121\n",
      " 154.62769666 150.52469829 126.20429992 117.4184988  125.96620091\n",
      " 116.70630107 171.1985005  141.40319801 167.54669872 114.96270019\n",
      " 117.60790086 139.72830352 170.16220144 159.23490292 157.49969911\n",
      " 154.8286997  125.09190017 176.34890009 156.985103   125.19990036\n",
      "  93.89209972  76.95840042 120.65279991 119.02659924 167.51380003\n",
      "  88.13430095 125.21990001  91.17980065 117.72740007 121.06639929\n",
      " 136.83230076 115.45420111 115.31530076 148.6736     106.98350095\n",
      " 104.54500248  87.29299806 126.48290059 118.02550008 153.66109896\n",
      " 119.60189999 108.24890056 108.2797981   93.38480072 127.0106982\n",
      "  75.81189977 113.63359944 121.22580032 111.35359917 118.94649895\n",
      " 120.61599961 159.08960089 167.13650038 147.00419644  85.98009901\n",
      "  94.36330033  86.72989904  90.50739991 119.06850073 126.45180041\n",
      " 127.43239987 169.52500022 122.35159937 117.38519913  98.62310012\n",
      " 167.93980182 142.81279836 131.78650177 121.18840232 120.67029935\n",
      " 119.86110055 114.3742017  118.19090038 107.00140099 128.00810041\n",
      " 114.115099   106.71489991 116.99960038 119.70759862  89.17220037\n",
      "  88.2010988  146.54980238 127.15280019 113.54940015 110.72029851\n",
      " 108.27549891  77.52389886 169.75420161 114.04879901 121.54829898\n",
      " 127.70450136 154.87909776  91.8277994  135.94980132 159.44620323\n",
      " 125.51000071 125.50070032 130.52490116 114.91950109 119.80210008\n",
      "  92.19349977 110.12459897 167.55879981 157.15849915 114.24719952\n",
      " 106.7836014   79.37789971 113.21260033 125.82570087 107.47689923\n",
      " 119.25400077 155.5949028  159.71319895 120.29459995 134.55820321\n",
      " 101.4197001  117.57529821 119.46970035 113.12420096 102.76039887\n",
      " 159.76389813  99.12530033 149.46189888 125.45600076 170.24379903\n",
      " 126.10229816 127.23049826 127.3974015  113.77949905 112.63590076\n",
      " 123.54289908 102.08939934  89.26930017 124.5682998  101.85289929\n",
      " 107.14469897 113.19470049 117.35430056  99.06569931 121.90200029\n",
      " 163.31259939  87.5847988  106.55539951 117.47270044 127.78050139\n",
      " 124.19770103  80.63839914 120.41800044 157.24739822  87.90700024\n",
      " 110.28099959 118.93759919 172.03709859 102.94349914 105.41100059\n",
      " 122.46090023 157.78799798  87.54159843  93.26670039 113.01710005\n",
      " 177.26899998 114.48809966 119.40110014  94.60570097 125.67420006\n",
      " 166.41050109 114.76940074 117.01590074  88.26549877 149.75690092\n",
      " 120.42859944  89.58119971 111.99410026 117.3086006  118.64590096\n",
      "  88.10009937  94.01499988 117.19630022 118.60790188 120.33170021\n",
      " 126.90659802 121.78369988 149.09240018 166.08760142 118.68169945\n",
      " 120.34090141 150.22360037 118.37039893 172.24439857 105.4927994\n",
      " 105.02500125 150.28610105 113.68580082 124.71840138 147.55839924\n",
      " 119.63650114 115.26140056 112.53570032 113.42000195 140.72180168\n",
      " 117.78899786 102.93700032 115.91710069 103.67270161  99.14540052\n",
      " 117.42320052  90.76539999  91.70360051 153.33029854 102.67119988\n",
      " 154.92090112 114.26730194 138.25030123  89.91909828 115.49689938\n",
      " 115.03459972 123.07690001 121.78100016 165.40430112  92.80719924\n",
      " 135.45530124 121.34839925 120.84680084 104.6526     142.74840323\n",
      " 121.14589889 116.62060056 113.45140074 127.21529748 122.55019952\n",
      " 125.87979996 121.26200037  86.8189988  132.65580112 145.32070207\n",
      "  92.6495995  158.72049965 159.50590262 125.98369944 164.91259872\n",
      " 108.84749965 110.10360069 103.63639822  94.42030121 127.7728026\n",
      " 106.99850054 161.98720011 121.94680012 132.11749971 130.53540089\n",
      " 160.75380043  90.04219859 175.47330222 127.54890099 126.8420985\n",
      "  86.35619928 124.41889985 150.54689737  89.73649998 106.77359957\n",
      " 109.01879978  83.7948994  135.6068003  154.92170183 139.89670335\n",
      "  74.15529996 151.82450108 126.44170069 126.72089989 127.55619862\n",
      " 108.44369923 156.05880056 114.54110127 116.92810134 125.34989913\n",
      " 154.16250101 121.39060021 156.30389867  92.94180045 125.51420142\n",
      " 125.59790012  88.01260072  92.04309915 126.28359984 128.4197039\n",
      " 113.0522004  117.62989771 120.86000039 127.16589772 119.57090066\n",
      " 136.97460069  94.03979961 119.73650056 113.48070117  94.37239934\n",
      " 108.98749995  87.31469927 108.99189934  89.82269987  92.43980046\n",
      " 131.65340271 162.30660044  89.24520021 119.75870083 133.55200156\n",
      " 124.00140005 128.45950193 101.9170987   88.90509921 131.68030056\n",
      " 119.76030039 108.44570025 167.31890137 115.1449004   86.57659877\n",
      " 118.89860041  91.16339962 161.55840016 116.48460027 121.56640004\n",
      " 160.20859766 119.97909933 113.08529904 108.47589868 126.84229995\n",
      "  76.24269999 103.00509991 127.71160239 121.75699937  92.54619994\n",
      " 132.13450042 118.40540089 116.01290003 154.50930304 158.99340058\n",
      " 110.29669964 154.61999763 119.16570067 160.46340056 118.66480003\n",
      " 158.65129996 115.07299889 116.91810051 147.77839858 114.82370069\n",
      " 125.8301987  165.70009952 117.61560014 125.12549927 153.09840362\n",
      " 153.43620234 132.22800079 114.71290056 121.14920225 124.97000075\n",
      "  89.73720057 122.85300016 154.6997014  111.82720016 106.52109995\n",
      " 161.6463007  118.63079966 165.62499996 134.27200078 114.67249973\n",
      " 152.83209805 168.4356996  114.55170035 114.03320116 159.34569938\n",
      "  85.04089901 127.07320055 128.04490144 128.71140032 124.18700104\n",
      " 123.95530072  90.6569007  153.12840025  97.04869992 137.50469976\n",
      "  89.11729891 106.70020012 115.01200062 112.6280011  124.35969911\n",
      "  91.37799899 125.43370102 162.2275987  119.89749873 165.11090057\n",
      " 126.92089792 112.54450022 127.64309945  95.2762991   90.97149947\n",
      " 103.66339911 120.63410046  83.11409941 126.11380021 160.20100503\n",
      " 117.44610107 118.59229992 119.81099992 122.49949946 119.96910138\n",
      " 121.31340029 118.12150048 106.99789997 148.5278994  126.43969777\n",
      " 115.63840091  73.97470002 127.85750106 154.29570091 122.12950004\n",
      " 125.57640054  88.91169997 103.0161983  124.12870062 120.24779989\n",
      "  73.51670073 151.27219965 121.05780051 104.62139983  86.52739772\n",
      " 115.05819903 172.18329835 119.97220031 160.54099768 113.15819937\n",
      " 121.21220015 118.65720097  96.14229982 118.61830029 125.84260043\n",
      " 118.56789972  96.28260087 153.78360163 122.19910023 147.40970011\n",
      " 159.49420235 113.73860019 122.46759947 149.12979792 127.21709989\n",
      " 165.50780138 135.49390088 119.9452992  167.93969931 108.31989937\n",
      " 121.93149824 138.57790084 106.91179922]\n"
     ]
    }
   ],
   "source": [
    "print(test_data_prediction)"
   ]
  },
  {
   "cell_type": "code",
   "execution_count": 22,
   "id": "7326fbaf",
   "metadata": {},
   "outputs": [
    {
     "name": "stdout",
     "output_type": "stream",
     "text": [
      "R Squared error :  0.9890690772735635\n"
     ]
    }
   ],
   "source": [
    "# R squared error\n",
    "error_score = metrics.r2_score(y_test, test_data_prediction)\n",
    "print(\"R Squared error : \", error_score)"
   ]
  },
  {
   "cell_type": "raw",
   "id": "1f614ac6",
   "metadata": {},
   "source": [
    "Compare the actual values and predicted values in a plot"
   ]
  },
  {
   "cell_type": "code",
   "execution_count": 23,
   "id": "fa035adb",
   "metadata": {},
   "outputs": [],
   "source": [
    "y_test = list(y_test)\n"
   ]
  },
  {
   "cell_type": "code",
   "execution_count": 24,
   "id": "3eadda2d",
   "metadata": {},
   "outputs": [
    {
     "data": {
      "image/png": "[encoded data removed]",
      "text/plain": [
       "<Figure size 432x288 with 1 Axes>"
      ]
     },
     "metadata": {
      "needs_background": "light"
     },
     "output_type": "display_data"
    }
   ],
   "source": [
    "plt.plot(y_test, color = 'blue', label = 'Actual Values')\n",
    "plt.plot(test_data_prediction, color ='green', label = 'Predicted Value')\n",
    "plt.title(\"Actual Price VS Predicted Price\")\n",
    "plt.xlabel('Number of values')\n",
    "plt.ylabel(\"GLD Price\")\n",
    "plt.legend()\n",
    "plt.show()"
   ]
  },
  {
   "cell_type": "code",
   "execution_count": null,
   "id": "a112a00b",
   "metadata": {},
   "outputs": [],
   "source": []
  }
 ],
 "metadata": {
  "kernelspec": {
   "display_name": "Python 3 (ipykernel)",
   "language": "python",
   "name": "python3"
  },
  "language_info": {
   "codemirror_mode": {
    "name": "ipython",
    "version": 3
   },
   "file_extension": ".py",
   "mimetype": "text/x-python",
   "name": "python",
   "nbconvert_exporter": "python",
   "pygments_lexer": "ipython3",
   "version": "3.9.7"
  }
 },
 "nbformat": 4,
 "nbformat_minor": 5
}
